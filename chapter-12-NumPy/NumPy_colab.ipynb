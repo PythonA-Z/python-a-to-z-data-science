{
  "nbformat": 4,
  "nbformat_minor": 0,
  "metadata": {
    "colab": {
      "provenance": [],
      "authorship_tag": "ABX9TyMsViCHleBIAQ6aIBEdbtyD",
      "include_colab_link": true
    },
    "kernelspec": {
      "name": "python3",
      "display_name": "Python 3"
    },
    "language_info": {
      "name": "python"
    }
  },
  "cells": [
    {
      "cell_type": "markdown",
      "metadata": {
        "id": "view-in-github",
        "colab_type": "text"
      },
      "source": [
        "<a href=\"https://colab.research.google.com/github/PythonA-Z/python-a-to-z-data-science/blob/main/chapter-12-NumPy/NumPy_colab.ipynb\" target=\"_parent\"><img src=\"https://colab.research.google.com/assets/colab-badge.svg\" alt=\"Open In Colab\"/></a>"
      ]
    },
    {
      "cell_type": "code",
      "source": [
        "# ------------------------------------------\n",
        "# Example: Import and Create NumPy Array\n",
        "# ------------------------------------------\n",
        "\n",
        "import numpy as np  # \"np\" is just a nickname used to shorten 'numpy'\n",
        "\n",
        "my_list = [1, 2, 3, 4]  # This is a plain old Python list\n",
        "my_array = np.array(my_list)  # Convert list into NumPy array\n",
        "print(my_array)  # Output: [1 2 3 4]\n",
        "\n"
      ],
      "metadata": {
        "colab": {
          "base_uri": "https://localhost:8080/"
        },
        "id": "vapsbbcILgHx",
        "outputId": "817e5fd4-33bd-41fb-9643-861e381a50ea"
      },
      "execution_count": 3,
      "outputs": [
        {
          "output_type": "stream",
          "name": "stdout",
          "text": [
            "[1 2 3 4]\n"
          ]
        }
      ]
    },
    {
      "cell_type": "code",
      "source": [
        "# ------------------------------------------\n",
        "# Example: Add to NumPy Array\n",
        "# ------------------------------------------\n",
        "\n",
        "scores_list = [80, 85, 90]  # This is a plain old Python list\n",
        "scores = np.array(scores_list)  # Create a NumPy array of scores\n",
        "bonus_scores = scores + 5  # Add 5 bonus points to every score\n",
        "print(bonus_scores)  # Output: [85 90 95]\n",
        "\n",
        "# Python list: Add 5 manually using list comprehension\n",
        "scores_list = [80, 85, 90]\n",
        "updated_scores_list = [x + 5 for x in scores_list]\n",
        "\n",
        "# NumPy array: Add 5 instantly\n",
        "scores = np.array(scores_list)\n",
        "new_scores = scores + 5  # Add 5 to all elements\n",
        "print(new_scores)  # Output: [85 90 95]\n",
        "\n"
      ],
      "metadata": {
        "colab": {
          "base_uri": "https://localhost:8080/"
        },
        "id": "ltrCVqLuLkCk",
        "outputId": "a5e1a2c9-7f1b-4e71-98a0-428033abd17f"
      },
      "execution_count": 4,
      "outputs": [
        {
          "output_type": "stream",
          "name": "stdout",
          "text": [
            "[85 90 95]\n",
            "[85 90 95]\n"
          ]
        }
      ]
    },
    {
      "cell_type": "code",
      "source": [
        "# ------------------------------------------\n",
        "# Example: NumPy Statistics\n",
        "# ------------------------------------------\n",
        "\n",
        "grades = np.array([70, 82, 89, 95])  # Create a NumPy array\n",
        "print(\"Average:\", np.mean(grades))  # Output: 84.0\n",
        "print(\"Highest:\", np.max(grades))   # Output: 95\n",
        "print(\"Lowest:\", np.min(grades))    # Output: 70"
      ],
      "metadata": {
        "colab": {
          "base_uri": "https://localhost:8080/"
        },
        "id": "Qq1LP_flLnnu",
        "outputId": "8b65d922-e6b1-42ac-c2b1-1e28e81315ce"
      },
      "execution_count": 5,
      "outputs": [
        {
          "output_type": "stream",
          "name": "stdout",
          "text": [
            "Average: 84.0\n",
            "Highest: 95\n",
            "Lowest: 70\n"
          ]
        }
      ]
    },
    {
      "cell_type": "code",
      "source": [
        "\n",
        "# ------------------------------------------\n",
        "# Example: Large Dataset with NumPy\n",
        "# ------------------------------------------\n",
        "\n",
        "big_list = list(range(1000000))  # A regular Python list with 1 million numbers\n",
        "big_array = np.array(big_list)   # Convert it into a NumPy array\n",
        "result = big_array * 2  # Multiply every number by 2, instantly\n",
        "\n"
      ],
      "metadata": {
        "id": "4BCkU9C9L3Cx"
      },
      "execution_count": 7,
      "outputs": []
    },
    {
      "cell_type": "code",
      "source": [
        "# ------------------------------------------\n",
        "# Example: np.zeros\n",
        "# ------------------------------------------\n",
        "\n",
        "zeros_array = np.zeros(5)  # Create an array with five zeros\n",
        "print(zeros_array)  # Output: [0. 0. 0. 0. 0.]"
      ],
      "metadata": {
        "colab": {
          "base_uri": "https://localhost:8080/"
        },
        "id": "vgaJqEtKL89u",
        "outputId": "af5f0ea4-a30b-4bc0-fd2c-8dfdc02216b4"
      },
      "execution_count": 8,
      "outputs": [
        {
          "output_type": "stream",
          "name": "stdout",
          "text": [
            "[0. 0. 0. 0. 0.]\n"
          ]
        }
      ]
    },
    {
      "cell_type": "code",
      "source": [
        "# ------------------------------------------\n",
        "# Example: np.ones\n",
        "# ------------------------------------------\n",
        "\n",
        "ones_array = np.ones((2, 3))  # Create a 2x3 array filled with ones\n",
        "print(ones_array)  # Output: [[1. 1. 1.] [1. 1. 1.]]\n"
      ],
      "metadata": {
        "colab": {
          "base_uri": "https://localhost:8080/"
        },
        "id": "OO0ZHISsMCqy",
        "outputId": "65df133f-4850-452d-80ef-87c5c9fd3481"
      },
      "execution_count": 9,
      "outputs": [
        {
          "output_type": "stream",
          "name": "stdout",
          "text": [
            "[[1. 1. 1.]\n",
            " [1. 1. 1.]]\n"
          ]
        }
      ]
    },
    {
      "cell_type": "code",
      "source": [
        "\n",
        "# ------------------------------------------\n",
        "# Example: np.arange with Step\n",
        "# ------------------------------------------\n",
        "\n",
        "step_array = np.arange(0, 10, 2)  # Create an array from 0 to 8, stepping by 2\n",
        "print(step_array)  # Output: [0 2 4 6 8]\n"
      ],
      "metadata": {
        "colab": {
          "base_uri": "https://localhost:8080/"
        },
        "id": "VGYWsm0WMIUN",
        "outputId": "c9f297ba-20d9-4145-e0b7-4f80b041a0d4"
      },
      "execution_count": 10,
      "outputs": [
        {
          "output_type": "stream",
          "name": "stdout",
          "text": [
            "[0 2 4 6 8]\n"
          ]
        }
      ]
    },
    {
      "cell_type": "code",
      "source": [
        "\n",
        "# ------------------------------------------\n",
        "# Example: np.mean, np.max, np.min\n",
        "# ------------------------------------------\n",
        "\n",
        "scores = np.array([80, 85, 90])  # Create a NumPy array of scores\n",
        "print(np.mean(scores))  # Output: 85.0 (the average)\n",
        "print(np.max(scores))   # Output: 90\n",
        "print(np.min(scores))   # Output: 80"
      ],
      "metadata": {
        "colab": {
          "base_uri": "https://localhost:8080/"
        },
        "id": "erkS9vg7ML1u",
        "outputId": "2d2ac49e-1ece-429d-c534-14c3a1d5722a"
      },
      "execution_count": 11,
      "outputs": [
        {
          "output_type": "stream",
          "name": "stdout",
          "text": [
            "85.0\n",
            "90\n",
            "80\n"
          ]
        }
      ]
    },
    {
      "cell_type": "code",
      "source": [
        "# ------------------------------------------\n",
        "# Example: np.shape\n",
        "# ------------------------------------------\n",
        "\n",
        "print(np.shape(ones_array))  # Output: (2, 3) — shows 2 rows, 3 columns\n",
        "\n",
        "\n",
        "# ------------------------------------------\n",
        "# Example: 2D NumPy Array\n",
        "# ------------------------------------------\n",
        "\n",
        "my_grid = np.array([\n",
        "    [1, 2, 3],\n",
        "    [4, 5, 6]\n",
        "])\n",
        "print(my_grid.shape)  # Output: (2, 3)\n",
        "print(my_grid[0][1])  # Output: 2 => from 1st row, 2nd column\n"
      ],
      "metadata": {
        "colab": {
          "base_uri": "https://localhost:8080/"
        },
        "id": "eVTkps0bMP0n",
        "outputId": "d92ac0b0-63ed-4d01-b6d4-3289fc1137be"
      },
      "execution_count": 12,
      "outputs": [
        {
          "output_type": "stream",
          "name": "stdout",
          "text": [
            "(2, 3)\n",
            "(2, 3)\n",
            "2\n"
          ]
        }
      ]
    },
    {
      "cell_type": "code",
      "source": [
        "# ------------------------------------------\n",
        "# Practice: Add 10 to Every Score\n",
        "# ------------------------------------------\n",
        "\n",
        "scores = np.array([65, 70, 75])  # Create a NumPy array\n",
        "updated = scores + 10  # Add 10 to each element\n",
        "print(updated)  # Output: [75 80 85]\n"
      ],
      "metadata": {
        "colab": {
          "base_uri": "https://localhost:8080/"
        },
        "id": "Lp9tUCBkMUvJ",
        "outputId": "6a7725e1-8c28-42f6-f53e-5f2b44697d41"
      },
      "execution_count": 13,
      "outputs": [
        {
          "output_type": "stream",
          "name": "stdout",
          "text": [
            "[75 80 85]\n"
          ]
        }
      ]
    },
    {
      "cell_type": "code",
      "source": [
        "# ------------------------------------------\n",
        "# Practice: Average Grade\n",
        "# ------------------------------------------\n",
        "\n",
        "grades = np.array([88, 92, 79, 85])  # Grades array\n",
        "average = np.mean(grades)  # Find the mean\n",
        "print(average)  # Output: 86.0"
      ],
      "metadata": {
        "colab": {
          "base_uri": "https://localhost:8080/"
        },
        "id": "407YdyzUMbjV",
        "outputId": "54bcfd2f-319c-430e-d54d-816931487e44"
      },
      "execution_count": 14,
      "outputs": [
        {
          "output_type": "stream",
          "name": "stdout",
          "text": [
            "86.0\n"
          ]
        }
      ]
    },
    {
      "cell_type": "code",
      "source": [
        "# ------------------------------------------\n",
        "# Practice: Access Value in 2D Grid\n",
        "# ------------------------------------------\n",
        "\n",
        "grid = np.array([\n",
        "    [10, 20, 30],\n",
        "    [40, 50, 60]\n",
        "])\n",
        "print(grid[1][2])  # Output: 60 — second row, third column\n"
      ],
      "metadata": {
        "colab": {
          "base_uri": "https://localhost:8080/"
        },
        "id": "3oqU3nccMekV",
        "outputId": "96ee02f6-17cd-4c17-e539-e942e21cfb7c"
      },
      "execution_count": 15,
      "outputs": [
        {
          "output_type": "stream",
          "name": "stdout",
          "text": [
            "60\n"
          ]
        }
      ]
    },
    {
      "cell_type": "code",
      "source": [
        "# ------------------------------------------\n",
        "# Practice: Create Even Range with np.arange\n",
        "# ------------------------------------------\n",
        "\n",
        "evens = np.arange(0, 10, 2)  # Start at 0, step by 2\n",
        "print(evens)  # Output: [0 2 4 6 8]\n"
      ],
      "metadata": {
        "colab": {
          "base_uri": "https://localhost:8080/"
        },
        "id": "lXFIoHp5MpIq",
        "outputId": "8c386905-5c3d-4cfe-909e-45216d341069"
      },
      "execution_count": 16,
      "outputs": [
        {
          "output_type": "stream",
          "name": "stdout",
          "text": [
            "[0 2 4 6 8]\n"
          ]
        }
      ]
    },
    {
      "cell_type": "code",
      "source": [
        "\n",
        "# ------------------------------------------\n",
        "# Mini Challenge: Analyze Scores\n",
        "# ------------------------------------------\n",
        "\n",
        "scores = np.array([75, 80, 95, 100])  # Step 1: Create the scores array\n",
        "print(np.mean(scores))  # Output: 87.5\n",
        "print(np.max(scores))   # Output: 100\n",
        "print(np.min(scores))   # Output: 75\n",
        "\n"
      ],
      "metadata": {
        "colab": {
          "base_uri": "https://localhost:8080/"
        },
        "id": "CsE1xMs7Mrb_",
        "outputId": "8448a64e-15cd-422f-882c-599afc02475e"
      },
      "execution_count": 17,
      "outputs": [
        {
          "output_type": "stream",
          "name": "stdout",
          "text": [
            "87.5\n",
            "100\n",
            "75\n"
          ]
        }
      ]
    },
    {
      "cell_type": "code",
      "source": [
        "# ------------------------------------------\n",
        "# Mini Challenge: Access 2D Array Value\n",
        "# ------------------------------------------\n",
        "\n",
        "grid = np.array([\n",
        "    [10, 20, 30],\n",
        "    [40, 50, 60]\n",
        "])\n",
        "print(grid[1][0])  # Output: 40 — second row, first column\n"
      ],
      "metadata": {
        "colab": {
          "base_uri": "https://localhost:8080/"
        },
        "id": "lggJsE_IMuoF",
        "outputId": "a4e1cc12-c1cd-46a2-efd5-c9b0300514bd"
      },
      "execution_count": 18,
      "outputs": [
        {
          "output_type": "stream",
          "name": "stdout",
          "text": [
            "40\n"
          ]
        }
      ]
    },
    {
      "cell_type": "code",
      "source": [
        "# ------------------------------------------\n",
        "# Mini Challenge: Use np.arange and Multiply\n",
        "# ------------------------------------------\n",
        "\n",
        "numbers = np.arange(0, 19, 3)  # Create a range from 0 to 18 (inclusive) with step 3\n",
        "result = numbers * 10  # Multiply every value by 10\n",
        "print(result)  # Output: [  0  30  60  90 120 150 180]"
      ],
      "metadata": {
        "collapsed": true,
        "colab": {
          "base_uri": "https://localhost:8080/"
        },
        "id": "s5wJMg4fMxim",
        "outputId": "2f93cab4-ea33-4ec5-d888-1ac4af5c97e1"
      },
      "execution_count": 20,
      "outputs": [
        {
          "output_type": "stream",
          "name": "stdout",
          "text": [
            "[  0  30  60  90 120 150 180]\n"
          ]
        }
      ]
    }
  ]
}